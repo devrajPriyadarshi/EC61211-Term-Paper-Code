{
  "nbformat": 4,
  "nbformat_minor": 0,
  "metadata": {
    "colab": {
      "provenance": [],
      "authorship_tag": "ABX9TyOPrvHpRumCzxY1aaI5Aynx",
      "include_colab_link": true
    },
    "kernelspec": {
      "name": "python3",
      "display_name": "Python 3"
    },
    "language_info": {
      "name": "python"
    }
  },
  "cells": [
    {
      "cell_type": "markdown",
      "metadata": {
        "id": "view-in-github",
        "colab_type": "text"
      },
      "source": [
        "<a href=\"https://colab.research.google.com/github/devrajPriyadarshi/EC61211-Term-Paper-Code/blob/main/PatternRecognition_Term_Paper_Codes.ipynb\" target=\"_parent\"><img src=\"https://colab.research.google.com/assets/colab-badge.svg\" alt=\"Open In Colab\"/></a>"
      ]
    },
    {
      "cell_type": "code",
      "source": [
        "%matplotlib inline"
      ],
      "metadata": {
        "id": "znF-o6n0hMvL"
      },
      "execution_count": 1,
      "outputs": []
    },
    {
      "cell_type": "code",
      "execution_count": 2,
      "metadata": {
        "id": "ZrSkdzbm9h1t"
      },
      "outputs": [],
      "source": [
        "import numpy as np\n",
        "import matplotlib.pyplot as plt\n",
        "\n",
        "\n",
        "from sklearn import decomposition\n",
        "from sklearn import datasets"
      ]
    },
    {
      "cell_type": "code",
      "source": [
        "import numpy as np\n",
        "import pandas as pd\n",
        "from PIL import Image\n",
        "from matplotlib import pyplot as plt\n",
        "\n",
        "import torch\n",
        "import torch.nn as nn\n",
        "import torch.nn.functional as F\n",
        "import torchvision.transforms as tf\n",
        "import torch.optim as optim\n",
        "\n",
        "from torch.utils.data import DataLoader\n",
        "from torch.utils.data import Dataset\n",
        "\n",
        "from torchsummary import summary"
      ],
      "metadata": {
        "id": "qvVPJwBQZQ3f"
      },
      "execution_count": 3,
      "outputs": []
    },
    {
      "cell_type": "code",
      "source": [
        "device = torch.device(\"cuda:0\" if torch.cuda.is_available() else \"cpu\")\n",
        "device"
      ],
      "metadata": {
        "colab": {
          "base_uri": "https://localhost:8080/"
        },
        "id": "mFj2hSG1bscM",
        "outputId": "fc246c37-dce6-40c2-9b8f-0ad451efe8a0"
      },
      "execution_count": 4,
      "outputs": [
        {
          "output_type": "execute_result",
          "data": {
            "text/plain": [
              "device(type='cpu')"
            ]
          },
          "metadata": {},
          "execution_count": 4
        }
      ]
    },
    {
      "cell_type": "code",
      "source": [
        "iris = datasets.load_iris()\n",
        "X = np.array(iris.data)\n",
        "y = np.array(iris.target)"
      ],
      "metadata": {
        "id": "LmC_0-C0-F-8"
      },
      "execution_count": 5,
      "outputs": []
    },
    {
      "cell_type": "code",
      "source": [
        "# for i in range(len(X)):\n",
        "#   print(\"data:\", X[i], \" value:\", y[i] )"
      ],
      "metadata": {
        "id": "VLY1uQ2T-Gs_"
      },
      "execution_count": 6,
      "outputs": []
    },
    {
      "cell_type": "code",
      "source": [
        "pca = decomposition.PCA(n_components=2)\n",
        "principalComponents = pca.fit_transform(X)"
      ],
      "metadata": {
        "id": "yHjRF31S-K3L"
      },
      "execution_count": 7,
      "outputs": []
    },
    {
      "cell_type": "code",
      "source": [
        "# for i in range(len(X)):\n",
        "#   print(\"data:\", principalComponents[i], \" value:\", y[i])"
      ],
      "metadata": {
        "id": "xKKZQLqf_fDN"
      },
      "execution_count": 8,
      "outputs": []
    },
    {
      "cell_type": "code",
      "source": [
        "plt.figure()\n",
        "plt.scatter(principalComponents[:,0], principalComponents[:,1])\n",
        "plt.show()"
      ],
      "metadata": {
        "colab": {
          "base_uri": "https://localhost:8080/",
          "height": 269
        },
        "id": "OWZQFm10hEdd",
        "outputId": "04c2b2f8-df03-453a-bceb-42004daafddc"
      },
      "execution_count": 58,
      "outputs": [
        {
          "output_type": "display_data",
          "data": {
            "text/plain": [
              "<Figure size 432x288 with 1 Axes>"
            ],
            "image/png": "[encoded data removed]"
          },
          "metadata": {
            "needs_background": "light"
          }
        }
      ]
    },
    {
      "cell_type": "code",
      "source": [
        "class PCA_NN(nn.Module):\n",
        "  def __init__(self):\n",
        "    \n",
        "    super().__init__()\n",
        "    self.lin1 = nn.Linear(4, 2)\n",
        "    self.lin2 = nn.Linear(2, 4)\n",
        "    self.double()\n",
        "\n",
        "  def forward_half1(self, x):\n",
        "\n",
        "    x = self.lin1(x.double())\n",
        "\n",
        "    return x\n",
        "\n",
        "  def forward_half2(self, x):\n",
        "\n",
        "    x = self.lin2(x.double())\n",
        "\n",
        "    return x\n",
        "\n",
        "  def forward(self, x, path=\"all\"):\n",
        "    if path == \"all\":\n",
        "      x = self.forward_half1(x)\n",
        "      x = self.forward_half2(x)\n",
        "\n",
        "      return x\n",
        "\n",
        "    elif path == \"pca\":\n",
        "      x = self.forward_half1(x)\n",
        "\n",
        "      return x\n",
        "\n",
        "pca = PCA_NN().to(device)\n",
        "summary(pca, (1, 4))"
      ],
      "metadata": {
        "id": "0HhZTP-iBBhg",
        "colab": {
          "base_uri": "https://localhost:8080/"
        },
        "outputId": "9e964512-4315-4e4c-8cc6-25cb18ef5ad4"
      },
      "execution_count": 66,
      "outputs": [
        {
          "output_type": "stream",
          "name": "stdout",
          "text": [
            "----------------------------------------------------------------\n",
            "        Layer (type)               Output Shape         Param #\n",
            "================================================================\n",
            "            Linear-1                 [-1, 1, 2]              10\n",
            "            Linear-2                 [-1, 1, 4]              12\n",
            "================================================================\n",
            "Total params: 22\n",
            "Trainable params: 22\n",
            "Non-trainable params: 0\n",
            "----------------------------------------------------------------\n",
            "Input size (MB): 0.00\n",
            "Forward/backward pass size (MB): 0.00\n",
            "Params size (MB): 0.00\n",
            "Estimated Total Size (MB): 0.00\n",
            "----------------------------------------------------------------\n"
          ]
        }
      ]
    },
    {
      "cell_type": "code",
      "source": [
        "class TrainDataset(Dataset):\n",
        "    def __init__(self, sourceTransform):\n",
        "        self.sourceTransform = sourceTransform\n",
        "        return\n",
        "\n",
        "    def __len__(self):\n",
        "        return len(X)\n",
        "\n",
        "    def __getitem__(self, idx):        \n",
        "        input = np.array(X[idx])        \n",
        "        label = np.array(X[idx])\n",
        "        if self.sourceTransform:\n",
        "            input = self.sourceTransform(input)\n",
        "\n",
        "        return input.astype(float), label.astype(float)\n",
        "\n",
        "# class TestDataset(Dataset):\n",
        "#     def __init__(self, sourceTransform):\n",
        "#         self.sourceTransform = sourceTransform\n",
        "#         return\n",
        "\n",
        "#     def __len__(self):\n",
        "#         return len(testData)\n",
        "\n",
        "#     def __getitem__(self, idx):        \n",
        "#         input = np.array(testData.iloc[idx][0:4],dtype = \"float\")\n",
        "#         input = torch.from_numpy(input)\n",
        "        \n",
        "#         label = np.argmax(np.array(trainData.iloc[idx][5:16],dtype = \"float\"))\n",
        "\n",
        "#         if self.sourceTransform:\n",
        "#             input = self.sourceTransform(input)\n",
        "\n",
        "#         return input, label\n"
      ],
      "metadata": {
        "id": "XZdberD6ch7u"
      },
      "execution_count": 60,
      "outputs": []
    },
    {
      "cell_type": "code",
      "source": [
        "transform = tf.Compose([])\n",
        "batch_size = 32\n",
        "\n",
        "trainset = TrainDataset( sourceTransform=transform)\n",
        "trainloader = DataLoader(trainset, batch_size=batch_size, shuffle=True, num_workers=2)\n",
        "\n",
        "# testset = TestDataset( sourceTransform=transform)\n",
        "# testloader = DataLoader(testset, batch_size=batch_size, shuffle=False, num_workers=2)"
      ],
      "metadata": {
        "id": "9YQuXTq6cjp7"
      },
      "execution_count": 61,
      "outputs": []
    },
    {
      "cell_type": "code",
      "source": [
        "pca = PCA_NN().to(device)\n",
        "# pca_output = PCA_NN_output(pca).to(device)\n",
        "criterion = nn.MSELoss()\n",
        "optimizer = torch.optim.SGD(pca.parameters(), lr=0.001, momentum = 0.9)\n",
        "\n",
        "epochs = 200\n",
        "for epoch in range(epochs): \n",
        "\n",
        "  running_loss = 0.0\n",
        "  for i, data in enumerate(trainloader, 0):\n",
        "    inputs, labels = data\n",
        "    inputs, labels = inputs.to(device), labels.to(device)\n",
        "\n",
        "    optimizer.zero_grad()\n",
        "    outputs = pca(inputs.float())\n",
        "    loss = criterion(outputs, labels)\n",
        "    loss.backward()\n",
        "    optimizer.step()\n",
        "\n",
        "    running_loss += loss.item()\n",
        "    \n",
        "  print(f'[{epoch + 1}] loss: {running_loss}')\n",
        "  running_loss = 0.0\n",
        "\n",
        "print('Finished Training')"
      ],
      "metadata": {
        "colab": {
          "base_uri": "https://localhost:8080/"
        },
        "id": "n7WB7OGUetpo",
        "outputId": "f0d549c9-8f90-4a51-fbdb-ece0037e7665"
      },
      "execution_count": 62,
      "outputs": [
        {
          "output_type": "stream",
          "name": "stdout",
          "text": [
            "[1] loss: 64.7984440774642\n",
            "[2] loss: 58.068763887057344\n",
            "[3] loss: 48.84221040112192\n",
            "[4] loss: 34.200201105361586\n",
            "[5] loss: 16.289163461767117\n",
            "[6] loss: 6.477102810108494\n",
            "[7] loss: 4.0433454509461395\n",
            "[8] loss: 3.589823728483944\n",
            "[9] loss: 4.046212055154742\n",
            "[10] loss: 3.4532164313585016\n",
            "[11] loss: 3.004620848165729\n",
            "[12] loss: 2.5280326818017373\n",
            "[13] loss: 2.4157011509946376\n",
            "[14] loss: 2.2912295149858433\n",
            "[15] loss: 2.1872955217288226\n",
            "[16] loss: 2.180944626002015\n",
            "[17] loss: 2.1284040833309366\n",
            "[18] loss: 2.0259769482111976\n",
            "[19] loss: 1.9287567480734675\n",
            "[20] loss: 1.875052455466431\n",
            "[21] loss: 1.8263441462241108\n",
            "[22] loss: 1.7936536111600483\n",
            "[23] loss: 1.7353646943366923\n",
            "[24] loss: 1.7007456341350278\n",
            "[25] loss: 1.6126527195640958\n",
            "[26] loss: 1.5576793747898747\n",
            "[27] loss: 1.4647734132313044\n",
            "[28] loss: 1.4102414190031394\n",
            "[29] loss: 1.355408694418322\n",
            "[30] loss: 1.2947270010206424\n",
            "[31] loss: 1.2361995762348204\n",
            "[32] loss: 1.1994156384862493\n",
            "[33] loss: 1.1305013180142929\n",
            "[34] loss: 1.049579943420809\n",
            "[35] loss: 1.00136086679791\n",
            "[36] loss: 0.9633256019062116\n",
            "[37] loss: 0.9191812913762905\n",
            "[38] loss: 0.8746967741068421\n",
            "[39] loss: 0.8203327250439116\n",
            "[40] loss: 0.7676840589857081\n",
            "[41] loss: 0.7215842557339657\n",
            "[42] loss: 0.6788598862835384\n",
            "[43] loss: 0.6533925874408311\n",
            "[44] loss: 0.6193900704538605\n",
            "[45] loss: 0.5758019031581775\n",
            "[46] loss: 0.540933351251648\n",
            "[47] loss: 0.5204301732312125\n",
            "[48] loss: 0.49069198950594517\n",
            "[49] loss: 0.46751962207939435\n",
            "[50] loss: 0.42842157887460863\n",
            "[51] loss: 0.4156620074139945\n",
            "[52] loss: 0.3935345888132485\n",
            "[53] loss: 0.37851534597366004\n",
            "[54] loss: 0.3620933387819063\n",
            "[55] loss: 0.35065832661767515\n",
            "[56] loss: 0.33440610128236725\n",
            "[57] loss: 0.3202859947844724\n",
            "[58] loss: 0.3077273826125823\n",
            "[59] loss: 0.3029882871357096\n",
            "[60] loss: 0.28790995034485023\n",
            "[61] loss: 0.2803190565083205\n",
            "[62] loss: 0.2687923576596775\n",
            "[63] loss: 0.2607001638202577\n",
            "[64] loss: 0.2528553193102386\n",
            "[65] loss: 0.24280249025592726\n",
            "[66] loss: 0.2391301092746048\n",
            "[67] loss: 0.23564101172677773\n",
            "[68] loss: 0.2305815897537418\n",
            "[69] loss: 0.2285747276387532\n",
            "[70] loss: 0.22244584040586476\n",
            "[71] loss: 0.21730800782950133\n",
            "[72] loss: 0.2148562858642056\n",
            "[73] loss: 0.20588826293569504\n",
            "[74] loss: 0.2083444095863724\n",
            "[75] loss: 0.20173993208813013\n",
            "[76] loss: 0.2055662057095427\n",
            "[77] loss: 0.2009192593419653\n",
            "[78] loss: 0.19509266325103752\n",
            "[79] loss: 0.19532301267535307\n",
            "[80] loss: 0.19209372024913873\n",
            "[81] loss: 0.19113139512704092\n",
            "[82] loss: 0.19229416449014466\n",
            "[83] loss: 0.18785574113579448\n",
            "[84] loss: 0.19140146609928105\n",
            "[85] loss: 0.1868120039925959\n",
            "[86] loss: 0.1874443417991217\n",
            "[87] loss: 0.18663445177475324\n",
            "[88] loss: 0.1848463838429357\n",
            "[89] loss: 0.1804528128163458\n",
            "[90] loss: 0.1843633750428199\n",
            "[91] loss: 0.1827426591652666\n",
            "[92] loss: 0.18296217824896777\n",
            "[93] loss: 0.17880754973626523\n",
            "[94] loss: 0.1830037750417804\n",
            "[95] loss: 0.18150900090943803\n",
            "[96] loss: 0.18039462137659049\n",
            "[97] loss: 0.17806083232577152\n",
            "[98] loss: 0.18130455957106778\n",
            "[99] loss: 0.17994317333655843\n",
            "[100] loss: 0.17658257515404302\n",
            "[101] loss: 0.18009802138504105\n",
            "[102] loss: 0.18330209187265462\n",
            "[103] loss: 0.176654941760504\n",
            "[104] loss: 0.17775619426889627\n",
            "[105] loss: 0.17768882374532852\n",
            "[106] loss: 0.17651841437485746\n",
            "[107] loss: 0.1764566261431674\n",
            "[108] loss: 0.17794831185081475\n",
            "[109] loss: 0.1767542273198589\n",
            "[110] loss: 0.17606870667365207\n",
            "[111] loss: 0.1776074029855034\n",
            "[112] loss: 0.1722707626383323\n",
            "[113] loss: 0.1739205379083673\n",
            "[114] loss: 0.17781481604942553\n",
            "[115] loss: 0.17855014373809064\n",
            "[116] loss: 0.17590572108837665\n",
            "[117] loss: 0.17797090651679684\n",
            "[118] loss: 0.1746756844885104\n",
            "[119] loss: 0.17657124157350274\n",
            "[120] loss: 0.17600639272583754\n",
            "[121] loss: 0.17469889304191852\n",
            "[122] loss: 0.17240932528047365\n",
            "[123] loss: 0.1720786977245741\n",
            "[124] loss: 0.17748886012069637\n",
            "[125] loss: 0.17378100958413337\n",
            "[126] loss: 0.17537081648468222\n",
            "[127] loss: 0.1749745585725051\n",
            "[128] loss: 0.1718143105435989\n",
            "[129] loss: 0.1750492251558986\n",
            "[130] loss: 0.1768927243165811\n",
            "[131] loss: 0.17168766607665295\n",
            "[132] loss: 0.1723461459259617\n",
            "[133] loss: 0.17506036627046204\n",
            "[134] loss: 0.17153210519413709\n",
            "[135] loss: 0.17430348334247017\n",
            "[136] loss: 0.17748418495547552\n",
            "[137] loss: 0.17142548977886424\n",
            "[138] loss: 0.17013001119483162\n",
            "[139] loss: 0.17872881862021772\n",
            "[140] loss: 0.17692434537603471\n",
            "[141] loss: 0.17234474460734187\n",
            "[142] loss: 0.17410593613319003\n",
            "[143] loss: 0.17197190379341948\n",
            "[144] loss: 0.16925984814083658\n",
            "[145] loss: 0.17261081184674826\n",
            "[146] loss: 0.16937593327467873\n",
            "[147] loss: 0.1762104626951963\n",
            "[148] loss: 0.1702377468571319\n",
            "[149] loss: 0.17189764904909696\n",
            "[150] loss: 0.16929075114126396\n",
            "[151] loss: 0.1716276274185774\n",
            "[152] loss: 0.1746418864541788\n",
            "[153] loss: 0.17360696400385903\n",
            "[154] loss: 0.170751007358716\n",
            "[155] loss: 0.17312075014862682\n",
            "[156] loss: 0.16945197680924642\n",
            "[157] loss: 0.17599458455145506\n",
            "[158] loss: 0.17034720323984154\n",
            "[159] loss: 0.1711375617963934\n",
            "[160] loss: 0.17289654353603826\n",
            "[161] loss: 0.16780637954612193\n",
            "[162] loss: 0.1729793402750319\n",
            "[163] loss: 0.17224992776699785\n",
            "[164] loss: 0.1739723572532578\n",
            "[165] loss: 0.17143990901629608\n",
            "[166] loss: 0.171314589747252\n",
            "[167] loss: 0.1692412606503921\n",
            "[168] loss: 0.1733117482868045\n",
            "[169] loss: 0.1744280828813092\n",
            "[170] loss: 0.16963299230612922\n",
            "[171] loss: 0.16906955785246452\n",
            "[172] loss: 0.1728292758749229\n",
            "[173] loss: 0.16791802079155646\n",
            "[174] loss: 0.17256945661063172\n",
            "[175] loss: 0.171586091884546\n",
            "[176] loss: 0.16917013341817622\n",
            "[177] loss: 0.1682845668290461\n",
            "[178] loss: 0.16980991597493175\n",
            "[179] loss: 0.17233227278562518\n",
            "[180] loss: 0.16926753064207467\n",
            "[181] loss: 0.16924691456664534\n",
            "[182] loss: 0.17142871218005515\n",
            "[183] loss: 0.16877738108753448\n",
            "[184] loss: 0.1692199754567938\n",
            "[185] loss: 0.1678695812157519\n",
            "[186] loss: 0.1710679726995624\n",
            "[187] loss: 0.16952014791174785\n",
            "[188] loss: 0.17086818241869806\n",
            "[189] loss: 0.17143541320393788\n",
            "[190] loss: 0.1686760001961151\n",
            "[191] loss: 0.16469670763163283\n",
            "[192] loss: 0.16848622965476495\n",
            "[193] loss: 0.16600933066365164\n",
            "[194] loss: 0.1670087896027384\n",
            "[195] loss: 0.1726588581908696\n",
            "[196] loss: 0.1672688992554264\n",
            "[197] loss: 0.1733150385513969\n",
            "[198] loss: 0.16663480266768627\n",
            "[199] loss: 0.16978266064576333\n",
            "[200] loss: 0.16785096041832587\n",
            "Finished Training\n"
          ]
        }
      ]
    },
    {
      "cell_type": "code",
      "source": [
        "# pca = PCA_NN().to(device)"
      ],
      "metadata": {
        "id": "inurtbbkm775"
      },
      "execution_count": 63,
      "outputs": []
    },
    {
      "cell_type": "code",
      "source": [
        "result = np.copy(principalComponents)\n",
        "for i in range(len(X)):\n",
        "  r = pca(torch.from_numpy(X[i]).double(), path=\"pca\")\n",
        "  result[i][0] = r[0].item()\n",
        "  result[i][1] = r[1].item()\n"
      ],
      "metadata": {
        "id": "wMpxUCzbgQXz"
      },
      "execution_count": 64,
      "outputs": []
    },
    {
      "cell_type": "code",
      "source": [
        "plt.figure()\n",
        "plt.scatter(result[:,0], result[:,1])\n",
        "plt.show()"
      ],
      "metadata": {
        "colab": {
          "base_uri": "https://localhost:8080/",
          "height": 265
        },
        "id": "fDFPywkxgtyE",
        "outputId": "e1266067-5bf3-4473-e299-759e6b82a119"
      },
      "execution_count": 65,
      "outputs": [
        {
          "output_type": "display_data",
          "data": {
            "text/plain": [
              "<Figure size 432x288 with 1 Axes>"
            ],
            "image/png": "[encoded data removed]"
          },
          "metadata": {
            "needs_background": "light"
          }
        }
      ]
    },
    {
      "cell_type": "code",
      "source": [
        "class NLCA_NN(nn.Module):\n",
        "  def __init__(self):\n",
        "    \n",
        "    super().__init__()\n",
        "    self.lin1 = nn.Linear(4, 3)\n",
        "    self.lin2 = nn.Linear(3, 2)\n",
        "    self.lin3 = nn.Linear(2, 3)\n",
        "    self.lin4 = nn.Linear(3, 4)\n",
        "\n",
        "    self.Activation1 = nn.Sigmoid()\n",
        "    self.Activation2 = nn.Sigmoid()\n",
        "\n",
        "    self.double()\n",
        "\n",
        "  def forward_half1(self, x):\n",
        "\n",
        "    x = self.Activation1(self.lin1(x.double()))\n",
        "    x = self.lin2(x.double())\n",
        "\n",
        "    return x\n",
        "\n",
        "  def forward_half2(self, x):\n",
        "\n",
        "    x = self.Activation2(self.lin3(x.double()))\n",
        "    x = self.lin4(x.double())\n",
        "\n",
        "    return x\n",
        "\n",
        "  def forward(self, x, path=\"all\"):\n",
        "    if path == \"all\":\n",
        "      x = self.forward_half1(x)\n",
        "      x = self.forward_half2(x)\n",
        "\n",
        "      return x\n",
        "\n",
        "    elif path == \"nlca\":\n",
        "      x = self.forward_half1(x)\n",
        "\n",
        "      return x\n",
        "\n",
        "nlca = NLCA_NN().to(device)\n",
        "summary(nlca, (1, 4))"
      ],
      "metadata": {
        "colab": {
          "base_uri": "https://localhost:8080/"
        },
        "id": "4LHWHdZ8jdaM",
        "outputId": "37a928f1-c0a3-439a-8ef2-422fd90f6d9c"
      },
      "execution_count": 68,
      "outputs": [
        {
          "output_type": "stream",
          "name": "stdout",
          "text": [
            "----------------------------------------------------------------\n",
            "        Layer (type)               Output Shape         Param #\n",
            "================================================================\n",
            "            Linear-1                 [-1, 1, 3]              15\n",
            "           Sigmoid-2                 [-1, 1, 3]               0\n",
            "            Linear-3                 [-1, 1, 2]               8\n",
            "            Linear-4                 [-1, 1, 3]               9\n",
            "           Sigmoid-5                 [-1, 1, 3]               0\n",
            "            Linear-6                 [-1, 1, 4]              16\n",
            "================================================================\n",
            "Total params: 48\n",
            "Trainable params: 48\n",
            "Non-trainable params: 0\n",
            "----------------------------------------------------------------\n",
            "Input size (MB): 0.00\n",
            "Forward/backward pass size (MB): 0.00\n",
            "Params size (MB): 0.00\n",
            "Estimated Total Size (MB): 0.00\n",
            "----------------------------------------------------------------\n"
          ]
        }
      ]
    },
    {
      "cell_type": "code",
      "source": [
        "nlca = NLCA_NN().to(device)\n",
        "criterion = nn.MSELoss()\n",
        "optimizer = torch.optim.SGD(nlca.parameters(), lr=0.001, momentum = 0.9)\n",
        "\n",
        "epochs = 200\n",
        "for epoch in range(epochs): \n",
        "\n",
        "  running_loss = 0.0\n",
        "  for i, data in enumerate(trainloader, 0):\n",
        "    inputs, labels = data\n",
        "    inputs, labels = inputs.to(device), labels.to(device)\n",
        "\n",
        "    optimizer.zero_grad()\n",
        "    outputs = nlca(inputs.float())\n",
        "    loss = criterion(outputs, labels)\n",
        "    loss.backward()\n",
        "    optimizer.step()\n",
        "\n",
        "    running_loss += loss.item()\n",
        "    \n",
        "  print(f'[{epoch + 1}] loss: {running_loss}')\n",
        "  running_loss = 0.0\n",
        "\n",
        "print('Finished Training')"
      ],
      "metadata": {
        "colab": {
          "base_uri": "https://localhost:8080/"
        },
        "id": "i76lFGuP9eUD",
        "outputId": "1841cc3e-7826-4f88-88dd-ba71a50e5d54"
      },
      "execution_count": 69,
      "outputs": [
        {
          "output_type": "stream",
          "name": "stdout",
          "text": [
            "[1] loss: 80.97105146249088\n",
            "[2] loss: 78.76888593341043\n",
            "[3] loss: 74.33811761466549\n",
            "[4] loss: 69.87538623421801\n",
            "[5] loss: 64.65623591718594\n",
            "[6] loss: 60.137508363324784\n",
            "[7] loss: 54.92963597026519\n",
            "[8] loss: 50.78761686669516\n",
            "[9] loss: 47.09876942775861\n",
            "[10] loss: 43.227453831174586\n",
            "[11] loss: 39.468068183780744\n",
            "[12] loss: 36.800431962141644\n",
            "[13] loss: 33.34773390691381\n",
            "[14] loss: 30.81659102818887\n",
            "[15] loss: 28.22510232297948\n",
            "[16] loss: 25.943020136557834\n",
            "[17] loss: 23.821226879393578\n",
            "[18] loss: 21.892424888352835\n",
            "[19] loss: 19.976221474885868\n",
            "[20] loss: 18.57908861690934\n",
            "[21] loss: 17.07760011211328\n",
            "[22] loss: 15.892656355435948\n",
            "[23] loss: 14.601627134612835\n",
            "[24] loss: 13.398014798378373\n",
            "[25] loss: 12.672191325248297\n",
            "[26] loss: 11.947136073025577\n",
            "[27] loss: 11.01563148515593\n",
            "[28] loss: 10.496219652859033\n",
            "[29] loss: 9.980800991776494\n",
            "[30] loss: 9.324704048005525\n",
            "[31] loss: 8.875720080206047\n",
            "[32] loss: 8.555121466905398\n",
            "[33] loss: 8.093661740853502\n",
            "[34] loss: 7.773541819418666\n",
            "[35] loss: 7.536340667207371\n",
            "[36] loss: 7.263950344069022\n",
            "[37] loss: 7.143757216873655\n",
            "[38] loss: 6.920791791564108\n",
            "[39] loss: 6.721271104079041\n",
            "[40] loss: 6.627952849617071\n",
            "[41] loss: 6.549034395826883\n",
            "[42] loss: 6.38934897956781\n",
            "[43] loss: 6.2531359007150265\n",
            "[44] loss: 6.132670110210511\n",
            "[45] loss: 6.0497343591448525\n",
            "[46] loss: 5.977729020894222\n",
            "[47] loss: 6.084026727164396\n",
            "[48] loss: 6.034005685836262\n",
            "[49] loss: 5.936835508344222\n",
            "[50] loss: 5.914824098818454\n",
            "[51] loss: 5.93712732115913\n",
            "[52] loss: 5.837100354605035\n",
            "[53] loss: 5.78106112457\n",
            "[54] loss: 5.775255127173114\n",
            "[55] loss: 5.796242616701812\n",
            "[56] loss: 5.683830764546064\n",
            "[57] loss: 5.710886377187228\n",
            "[58] loss: 5.760781128359136\n",
            "[59] loss: 5.725402581866799\n",
            "[60] loss: 5.737421549340082\n",
            "[61] loss: 5.672633018563248\n",
            "[62] loss: 5.792386835205378\n",
            "[63] loss: 5.727653179959983\n",
            "[64] loss: 5.773454742107274\n",
            "[65] loss: 5.712079362747633\n",
            "[66] loss: 5.657522339076526\n",
            "[67] loss: 5.747610457286628\n",
            "[68] loss: 5.639618480516745\n",
            "[69] loss: 5.684209928090554\n",
            "[70] loss: 5.69853297874886\n",
            "[71] loss: 5.644984016575583\n",
            "[72] loss: 5.622664619261223\n",
            "[73] loss: 5.732786122006031\n",
            "[74] loss: 5.638883819263359\n",
            "[75] loss: 5.633388472883157\n",
            "[76] loss: 5.735576142692747\n",
            "[77] loss: 5.609600704767777\n",
            "[78] loss: 5.638986514952521\n",
            "[79] loss: 5.68091021391799\n",
            "[80] loss: 5.811838774612641\n",
            "[81] loss: 5.6693938136897835\n",
            "[82] loss: 5.64599313462685\n",
            "[83] loss: 5.650445836034248\n",
            "[84] loss: 5.687049657839301\n",
            "[85] loss: 5.680967614907525\n",
            "[86] loss: 5.768127245254258\n",
            "[87] loss: 5.7622694015351605\n",
            "[88] loss: 5.738428678142679\n",
            "[89] loss: 5.61120362428869\n",
            "[90] loss: 5.672218472134472\n",
            "[91] loss: 5.678441772802308\n",
            "[92] loss: 5.656584155196017\n",
            "[93] loss: 5.754073540257588\n",
            "[94] loss: 5.6842282572209495\n",
            "[95] loss: 5.632058808931381\n",
            "[96] loss: 5.629606557256922\n",
            "[97] loss: 5.734483717015121\n",
            "[98] loss: 5.693353654275041\n",
            "[99] loss: 5.642187450407304\n",
            "[100] loss: 5.6163105533119015\n",
            "[101] loss: 5.663052697718772\n",
            "[102] loss: 5.5535467128960825\n",
            "[103] loss: 5.67204715690152\n",
            "[104] loss: 5.671201279755517\n",
            "[105] loss: 5.663345023924629\n",
            "[106] loss: 5.804306279468609\n",
            "[107] loss: 5.658789455299053\n",
            "[108] loss: 5.700199389339273\n",
            "[109] loss: 5.736721687848712\n",
            "[110] loss: 5.768281041130123\n",
            "[111] loss: 5.657775998626667\n",
            "[112] loss: 5.744021955796237\n",
            "[113] loss: 5.645984374856631\n",
            "[114] loss: 5.693865307330361\n",
            "[115] loss: 5.751535406303368\n",
            "[116] loss: 5.709867383457842\n",
            "[117] loss: 5.6381194199436\n",
            "[118] loss: 5.716322216276859\n",
            "[119] loss: 5.661370860005073\n",
            "[120] loss: 5.614771674020536\n",
            "[121] loss: 5.634796631704292\n",
            "[122] loss: 5.717278265821417\n",
            "[123] loss: 5.6551259732545445\n",
            "[124] loss: 5.6433489687136005\n",
            "[125] loss: 5.713102036674179\n",
            "[126] loss: 5.632104251400069\n",
            "[127] loss: 5.69460105641444\n",
            "[128] loss: 5.704333267094641\n",
            "[129] loss: 5.767384786679527\n",
            "[130] loss: 5.640613508533731\n",
            "[131] loss: 5.608196991175295\n",
            "[132] loss: 5.674549100549404\n",
            "[133] loss: 5.6106000130276215\n",
            "[134] loss: 5.675886532214147\n",
            "[135] loss: 5.6671739589005785\n",
            "[136] loss: 5.75313070532976\n",
            "[137] loss: 5.63606853200201\n",
            "[138] loss: 5.675710775358161\n",
            "[139] loss: 5.677289975787765\n",
            "[140] loss: 5.6341318108720415\n",
            "[141] loss: 5.75292851588418\n",
            "[142] loss: 5.6213850943067\n",
            "[143] loss: 5.636759486060233\n",
            "[144] loss: 5.592407270529079\n",
            "[145] loss: 5.712355285335148\n",
            "[146] loss: 5.676188644983814\n",
            "[147] loss: 5.697278906851835\n",
            "[148] loss: 5.644489862301396\n",
            "[149] loss: 5.697255018358213\n",
            "[150] loss: 5.627821277922532\n",
            "[151] loss: 5.627504969305534\n",
            "[152] loss: 5.662182814878404\n",
            "[153] loss: 5.659527083617427\n",
            "[154] loss: 5.6260446191053575\n",
            "[155] loss: 5.678575013980259\n",
            "[156] loss: 5.653003332962957\n",
            "[157] loss: 5.654828925838129\n",
            "[158] loss: 5.667416902888866\n",
            "[159] loss: 5.600533773838645\n",
            "[160] loss: 5.613907112819136\n",
            "[161] loss: 5.572793335829441\n",
            "[162] loss: 5.623977835635837\n",
            "[163] loss: 5.616907983166942\n",
            "[164] loss: 5.730044960617083\n",
            "[165] loss: 5.6881260977961015\n",
            "[166] loss: 5.6464571853989405\n",
            "[167] loss: 5.653381505667088\n",
            "[168] loss: 5.663901259973566\n",
            "[169] loss: 5.709443302986657\n",
            "[170] loss: 5.654557729763754\n",
            "[171] loss: 5.6735281924700764\n",
            "[172] loss: 5.754505401748186\n",
            "[173] loss: 5.629694501356505\n",
            "[174] loss: 5.755917259868733\n",
            "[175] loss: 5.739966582746287\n",
            "[176] loss: 5.725544408049584\n",
            "[177] loss: 5.7307283386507155\n",
            "[178] loss: 5.738267018221095\n",
            "[179] loss: 5.627453121972655\n",
            "[180] loss: 5.6197959350348\n",
            "[181] loss: 5.730733935455563\n",
            "[182] loss: 5.755091060978635\n",
            "[183] loss: 5.701516895463749\n",
            "[184] loss: 5.624442000152501\n",
            "[185] loss: 5.6740053515548885\n",
            "[186] loss: 5.656111764316679\n",
            "[187] loss: 5.608135507947002\n",
            "[188] loss: 5.608638977775687\n",
            "[189] loss: 5.6702641499218585\n",
            "[190] loss: 5.659742110402712\n",
            "[191] loss: 5.720854176793537\n",
            "[192] loss: 5.684607116806724\n",
            "[193] loss: 5.57630874276918\n",
            "[194] loss: 5.734346920066713\n",
            "[195] loss: 5.688903060153891\n",
            "[196] loss: 5.673788880401428\n",
            "[197] loss: 5.657467630643392\n",
            "[198] loss: 5.599586796602739\n",
            "[199] loss: 5.6965076940776616\n",
            "[200] loss: 5.61568699058539\n",
            "Finished Training\n"
          ]
        }
      ]
    },
    {
      "cell_type": "code",
      "source": [
        "result = np.copy(principalComponents)\n",
        "for i in range(len(X)):\n",
        "  r = nlca(torch.from_numpy(X[i]).double(), path=\"nlca\")\n",
        "  result[i][0] = r[0].item()\n",
        "  result[i][1] = r[1].item()\n"
      ],
      "metadata": {
        "id": "o3vlK7GW9f9N"
      },
      "execution_count": 70,
      "outputs": []
    },
    {
      "cell_type": "code",
      "source": [
        "plt.figure()\n",
        "plt.scatter(result[:,0], result[:,1])\n",
        "plt.show()"
      ],
      "metadata": {
        "colab": {
          "base_uri": "https://localhost:8080/",
          "height": 265
        },
        "id": "bQbemJJL9hz1",
        "outputId": "6781bcf7-94ca-4e08-cf2f-c4c23ab72069"
      },
      "execution_count": 71,
      "outputs": [
        {
          "output_type": "display_data",
          "data": {
            "text/plain": [
              "<Figure size 432x288 with 1 Axes>"
            ],
            "image/png": "[encoded data removed]"
          },
          "metadata": {
            "needs_background": "light"
          }
        }
      ]
    },
    {
      "cell_type": "code",
      "source": [],
      "metadata": {
        "id": "pbEQERIQ-BBm"
      },
      "execution_count": null,
      "outputs": []
    }
  ]
}